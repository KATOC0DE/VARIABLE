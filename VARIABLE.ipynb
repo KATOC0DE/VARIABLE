{
 "cells": [
  {
   "cell_type": "markdown",
   "id": "b883893c",
   "metadata": {},
   "source": [
    "# VARIABLE"
   ]
  },
  {
   "cell_type": "code",
   "execution_count": 2,
   "id": "5dd4bf91",
   "metadata": {},
   "outputs": [
    {
     "name": "stdout",
     "output_type": "stream",
     "text": [
      "Hello World!\n",
      "Hi There!\n",
      "Hey Guy! 👋\n",
      "What's up! World!\n"
     ]
    }
   ],
   "source": [
    "var = 'Hello World!'\n",
    "var2 = 'Hi There!'\n",
    "var3 = 'Hey Guy!'\n",
    "var4 = \"What's up!\"\n",
    "print(var)\n",
    "print(var2)\n",
    "print(var3,'👋')\n",
    "print(var4,'World!')"
   ]
  },
  {
   "cell_type": "code",
   "execution_count": 10,
   "id": "313d5d97",
   "metadata": {},
   "outputs": [
    {
     "name": "stdout",
     "output_type": "stream",
     "text": [
      "Hello World!\n",
      "Hi There!\n",
      "Hey Guy!\n",
      "What's up!\n"
     ]
    }
   ],
   "source": [
    "var,var2,var3,var4 = 'Hello World!','Hi There!','Hey Guy!',\"What's up!\"\n",
    "print(f'''{var}\n",
    "{var2}\n",
    "{var3}\n",
    "{var4}''')"
   ]
  },
  {
   "cell_type": "code",
   "execution_count": 4,
   "id": "808f8cf6",
   "metadata": {},
   "outputs": [
    {
     "name": "stdout",
     "output_type": "stream",
     "text": [
      "706.5 cm\n"
     ]
    }
   ],
   "source": [
    "pi = 3.14\n",
    "radius = 15\n",
    "area = pi*radius**2\n",
    "print(area,'cm')"
   ]
  },
  {
   "cell_type": "code",
   "execution_count": 5,
   "id": "998134e5",
   "metadata": {},
   "outputs": [
    {
     "name": "stdout",
     "output_type": "stream",
     "text": [
      "3380 cm\n"
     ]
    }
   ],
   "source": [
    "length, width = 52, 65\n",
    "area = length * width\n",
    "print(area,'cm')"
   ]
  },
  {
   "cell_type": "code",
   "execution_count": 6,
   "id": "25cd0636",
   "metadata": {},
   "outputs": [
    {
     "name": "stdout",
     "output_type": "stream",
     "text": [
      "1690.0 cm\n"
     ]
    }
   ],
   "source": [
    "base, heigth = 52, 65\n",
    "area = 0.5 * base * heigth\n",
    "print(area,'cm')"
   ]
  }
 ],
 "metadata": {
  "kernelspec": {
   "display_name": "Python 3 (ipykernel)",
   "language": "python",
   "name": "python3"
  },
  "language_info": {
   "codemirror_mode": {
    "name": "ipython",
    "version": 3
   },
   "file_extension": ".py",
   "mimetype": "text/x-python",
   "name": "python",
   "nbconvert_exporter": "python",
   "pygments_lexer": "ipython3",
   "version": "3.11.4"
  }
 },
 "nbformat": 4,
 "nbformat_minor": 5
}
